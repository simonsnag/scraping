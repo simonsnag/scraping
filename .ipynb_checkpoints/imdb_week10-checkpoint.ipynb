{
 "cells": [
  {
   "cell_type": "code",
   "execution_count": null,
   "metadata": {},
   "outputs": [],
   "source": [
    "%load_ext autoreload\n",
    "%autoreload 2"
   ]
  },
  {
   "cell_type": "code",
   "execution_count": null,
   "metadata": {},
   "outputs": [],
   "source": [
    "from imdb_code import get_movies_by_actor_soup, get_actors_by_movie_soup, get_movie_distance, get_movie_descriptions_by_actor_soup\n",
    "from imdb_helper_functions import dl_cast_page_soup, dl_actor_page_soup, get_short_description\n",
    "import pandas as pd\n",
    "import time\n",
    "from random import choice"
   ]
  },
  {
   "cell_type": "markdown",
   "metadata": {},
   "source": [
    "I used a bit different data structure for saving actors and movies, not list of pairs as it's asked, but dictionary with pairs as values, it helps with searching."
   ]
  },
  {
   "cell_type": "code",
   "execution_count": null,
   "metadata": {},
   "outputs": [],
   "source": [
    "dwayne_url = 'https://www.imdb.com/name/nm0425005'\n",
    "scarlett_url = 'https://www.imdb.com/name/nm0424060'\n",
    "actor_page_soup = dl_actor_page_soup(dwayne_url)\n",
    "actress_page_soup = dl_actor_page_soup(scarlett_url)"
   ]
  },
  {
   "cell_type": "code",
   "execution_count": null,
   "metadata": {},
   "outputs": [],
   "source": [
    "print(get_movies_by_actor_soup(actor_page_soup))"
   ]
  },
  {
   "cell_type": "code",
   "execution_count": null,
   "metadata": {},
   "outputs": [],
   "source": [
    "print(get_movies_by_actor_soup(actor_page_soup, num_of_movies_limit=100))"
   ]
  },
  {
   "cell_type": "code",
   "execution_count": null,
   "metadata": {},
   "outputs": [],
   "source": [
    "print(get_movies_by_actor_soup(actor_page_soup, num_of_movies_limit=5))"
   ]
  },
  {
   "cell_type": "code",
   "execution_count": null,
   "metadata": {},
   "outputs": [],
   "source": [
    "print(get_movies_by_actor_soup(actress_page_soup))"
   ]
  },
  {
   "cell_type": "code",
   "execution_count": null,
   "metadata": {},
   "outputs": [],
   "source": [
    "print(get_movies_by_actor_soup(actress_page_soup, num_of_movies_limit=100))"
   ]
  },
  {
   "cell_type": "code",
   "execution_count": null,
   "metadata": {},
   "outputs": [],
   "source": [
    "print(get_movies_by_actor_soup(actress_page_soup, num_of_movies_limit=5))"
   ]
  },
  {
   "cell_type": "code",
   "execution_count": null,
   "metadata": {},
   "outputs": [],
   "source": [
    "widow_url = 'https://www.imdb.com/title/tt3480822/fullcredits/'\n",
    "cast_page_soup = dl_cast_page_soup(widow_url)"
   ]
  },
  {
   "cell_type": "code",
   "execution_count": null,
   "metadata": {},
   "outputs": [],
   "source": [
    "print(get_actors_by_movie_soup(cast_page_soup))"
   ]
  },
  {
   "cell_type": "code",
   "execution_count": null,
   "metadata": {},
   "outputs": [],
   "source": [
    "print(get_actors_by_movie_soup(cast_page_soup, num_of_actors_limit=150))"
   ]
  },
  {
   "cell_type": "code",
   "execution_count": null,
   "metadata": {},
   "outputs": [],
   "source": [
    "print(get_actors_by_movie_soup(cast_page_soup, num_of_actors_limit=5))"
   ]
  },
  {
   "cell_type": "markdown",
   "metadata": {},
   "source": [
    "# Test week 10\n",
    "---"
   ]
  },
  {
   "cell_type": "code",
   "execution_count": null,
   "metadata": {},
   "outputs": [],
   "source": [
    "movies_to_check = ['https://www.imdb.com/title/tt1684562/fullcredits', 'https://www.imdb.com/title/tt17279496/fullcredits', 'https://www.imdb.com/title/tt12637874/fullcredits']\n",
    "actors_to_check = ['https://www.imdb.com/name/nm0000190', 'https://www.imdb.com/name/nm0000354/',  'https://www.imdb.com/name/nm0532193']\n",
    "actresses_to_check = ['https://www.imdb.com/name/nm0931404', 'https://www.imdb.com/name/nm4972453/', 'https://www.imdb.com/name/nm0491259']"
   ]
  },
  {
   "cell_type": "code",
   "execution_count": null,
   "metadata": {},
   "outputs": [],
   "source": [
    "dict_df_cast = {}\n",
    "sleep = [1, 3, 5, 7]\n",
    "for url in movies_to_check:\n",
    "    cast = dl_cast_page_soup(url, log_handler=True)\n",
    "    actors = get_actors_by_movie_soup(cast, log_handler=True)\n",
    "    dict_df_cast[url] = pd.DataFrame(actors.values(), columns=['actor/actress', 'link'], index=actors.keys())\n",
    "    time.sleep(choice([3, 1, 5]))"
   ]
  },
  {
   "cell_type": "code",
   "execution_count": null,
   "metadata": {},
   "outputs": [],
   "source": [
    "dict_df_cast"
   ]
  },
  {
   "cell_type": "code",
   "execution_count": null,
   "metadata": {},
   "outputs": [],
   "source": [
    "dict_actor_movies = {}\n",
    "for url in actors_to_check:\n",
    "    films_soup = dl_actor_page_soup(url, log_handler=True)\n",
    "    movies = get_movies_by_actor_soup(films_soup, log_handler=True)\n",
    "    dict_actor_movies[url] = pd.DataFrame(movies.values(), columns=['movie', 'link'], index=movies.keys())\n",
    "    time.sleep(choice([2, 4, 7]))"
   ]
  },
  {
   "cell_type": "code",
   "execution_count": null,
   "metadata": {},
   "outputs": [],
   "source": [
    "for url in actresses_to_check:\n",
    "    films_soup = dl_actor_page_soup(url, log_handler=True)\n",
    "    movies = get_movies_by_actor_soup(films_soup, log_handler=True)\n",
    "    dict_actor_movies[url] = pd.DataFrame(movies.values(), columns=['movie', 'link'], index=movies.keys())\n",
    "    time.sleep(choice([1, 3, 6]))"
   ]
  },
  {
   "cell_type": "code",
   "execution_count": null,
   "metadata": {},
   "outputs": [],
   "source": [
    "dict_actor_movies"
   ]
  }
 ],
 "metadata": {
  "kernelspec": {
   "display_name": "Python 3 (ipykernel)",
   "language": "python",
   "name": "python3"
  },
  "language_info": {
   "codemirror_mode": {
    "name": "ipython",
    "version": 3
   },
   "file_extension": ".py",
   "mimetype": "text/x-python",
   "name": "python",
   "nbconvert_exporter": "python",
   "pygments_lexer": "ipython3",
   "version": "3.12.3"
  }
 },
 "nbformat": 4,
 "nbformat_minor": 4
}
